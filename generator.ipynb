{
 "cells": [
  {
   "cell_type": "code",
   "execution_count": 59,
   "metadata": {},
   "outputs": [
    {
     "name": "stdout",
     "output_type": "stream",
     "text": [
      "[(83, 20), (60, 169), (200.0, 89), (88, 107), (136, 143), (68, 113), (110, 140), (114, 131), (59, 105), (145, 103), (128, 107), (68, 74), (16, 116), (117, 128), (84, 99), (44, 94), (108, 92), (65, 107), (125, 103), (150, 50), (100, 174), (44, 152), (82, 156), (82, 173), (112, 146), (60, 122), (122, 96), (88, 122), (76, 87), (160, 89), (161, 127), (63, 189), (37, 86), (52, 107), (94, 74), (146, 56), (24, 88), (114, 82), (77, 112), (54, 139), (112, 157), (67, 89), (66, 86), (104, 142), (105, 74), (131, 113), (128, 128), (68, 112), (113, 128), (143, 58), (121, 164), (161, 88), (78, 77), (99, 90), (58, 59), (66, 64), (82, 119), (144, 54), (69, 46), (85, 105), (55, 104), (129, 78), (75, 100), (97, 96), (74, 58), (109, 107), (79, 54), (80, 153), (142, 106), (84, 119), (124, 52), (120, 107), (67, 153), (147, 126), (54, 129), (166, 134), (106, 135), (71, 82), (148, 126), (97, 156), (155, 120), (41, 90), (128, 58), (120, 184), (50, 128), (119, 102), (115, 168), (56, 91), (136, 112), (113, 114), (75, 56), (131, 128), (60, 119), (94, 147), (1, 82), (133, 137), (94, 188), (118, 99), (61, 144), (77, 73), (116, 162), (149, 103), (116, 116), (68, 121), (97, 87), (126, 87), (143, 107), (93, 84), (127, 161), (145, 145), (88, 73), (97, 94), (172, 79), (120, 83), (57, 112), (87, 59), (156, 50), (102, 101), (90, 71), (111, 92), (111, 37), (92, 110), (42, 99), (1, 47), (104, 63), (84, 125), (103, 95), (1, 104), (95, 89), (147, 46), (176, 120), (37, 117), (90, 93), (40, 82), (140, 63), (44, 61), (45, 102), (66, 101), (130, 90), (91, 98), (157, 40), (91, 133), (66, 166), (138, 69), (177, 115), (124, 109), (140, 99), (105, 119), (120, 87), (64, 120), (28, 101), (133, 123), (117, 126), (45, 59), (130, 133), (48, 98), (43, 148), (9, 112), (135, 76), (82, 125), (160, 128), (85, 119), (79, 98), (181, 94), (166, 149), (77, 200.0), (156, 137), (99, 88), (72, 86), (51, 126), (79, 96), (143, 47), (74, 132), (147, 54), (126, 71), (48, 128), (133, 66), (108, 13), (200.0, 94), (117, 28), (141, 86), (115, 47), (142, 69), (107, 29), (124, 70), (47, 104), (109, 87), (125, 87), (128, 56), (110, 138), (92, 166), (20, 89), (91, 32), (53, 121), (81, 141), (87, 33), (77, 112), (132, 144), (97, 142), (76, 83), (124, 87), (154, 102), (125, 55), (89, 76), (150, 59), (83, 90), (107, 108), (99, 73), (81, 113), (81, 129), (27, 200.0), (148, 84), (153, 59), (151, 1), (92, 99), (79, 145), (56, 117), (65, 98), (31, 50), (54, 134), (111, 59), (88, 76), (91, 1), (78, 158), (74, 134), (151, 161), (128, 91), (44, 55), (67, 85), (95, 57), (116, 83), (93, 173), (178, 93), (148, 106), (102, 151), (94, 81), (92, 86), (117, 144), (86, 93), (117, 149), (160, 94), (110, 101), (76, 75), (103, 118), (128, 177), (41, 116), (86, 109), (115, 78), (21, 96), (123, 53), (70, 108), (108, 110), (105, 16), (119, 105), (56, 113), (74, 105), (64, 126), (140, 100), (50, 125), (91, 100), (120, 56), (115, 55), (68, 118), (190, 121), (74, 123), (60, 38), (88, 92), (136, 77), (47, 109), (60, 141), (121, 160), (104, 1), (76, 81), (121, 86), (89, 86), (46, 72), (106, 154), (70, 49), (140, 96), (58, 175), (110, 152), (100, 115), (194, 97), (16, 168), (150, 1), (76, 147), (119, 140), (100, 109), (73, 200.0), (74, 145), (80, 75), (74, 136), (30, 115), (125, 138), (29, 101), (55, 78), (112, 143), (53, 76), (104, 95), (133, 1), (72, 178), (45, 55), (127, 80), (200.0, 89), (168, 109), (48, 59), (63, 103), (100, 116), (106, 105), (113, 142), (40, 75), (114, 125), (105, 94), (56, 114), (22, 90), (67, 132), (105, 97), (72, 179), (82, 83), (71, 136), (84, 113), (86, 94), (33, 64), (108, 78), (152, 1), (87, 83), (124, 63), (144, 127), (38, 138), (45, 167), (22, 126), (87, 138), (77, 98), (43, 120), (139, 51), (111, 155), (132, 74), (129, 118), (180, 109), (154, 92), (65, 112), (23, 82), (174, 156), (19, 141), (101, 77), (58, 103), (101, 26), (51, 96), (130, 200.0), (37, 37), (47, 80), (56, 88), (26, 123), (184, 200.0), (75, 185), (104, 156), (83, 66), (75, 109), (116, 147), (199, 111), (74, 70), (97, 161), (200.0, 154), (126, 33), (130, 65), (67, 122), (122, 78), (29, 151), (113, 57), (140, 109), (64, 97), (112, 36), (143, 42), (159, 142), (110, 9), (119, 73), (80, 43), (30, 133), (143, 116), (162, 147), (109, 96), (142, 127), (114, 118), (155, 146), (142, 53), (44, 107), (19, 78), (118, 80), (145, 133), (98, 41), (71, 149), (21, 117), (38, 104), (69, 58), (69, 141), (169, 111), (67, 120), (137, 56), (112, 101), (54, 55)]\n"
     ]
    }
   ],
   "source": [
    "import random as r\n",
    "\n",
    "def valueN(media, desvio_padrao, n):\n",
    "    # Gerar um valor aleatório normalmente distribuído\n",
    "    valor_normal = r.normalvariate(media, desvio_padrao)\n",
    "\n",
    "    # Ajustar o valor para estar no intervalo [1, n]\n",
    "    valor_ajustado = max(1, min(n, round(valor_normal)))\n",
    "\n",
    "    return valor_ajustado\n",
    "\n",
    "num_of_items = 400\n",
    "max_capacity = num_of_items/2\n",
    "\n",
    "values = list()\n",
    "weights = list()\n",
    "\n",
    "for i in range(num_of_items):\n",
    "    values.append(int(valueN(max_capacity/2, 0.2*max_capacity, max_capacity)))\n",
    "    weights.append(int(valueN(max_capacity/2, 0.2*max_capacity, max_capacity)))\n",
    "\n",
    "with open(f'inputs/input{num_of_items}.txt', 'w') as f:\n",
    "    f.write(f'{int(max_capacity)}\\n')\n",
    "    for i in range(num_of_items):\n",
    "        f.write(f'{weights[i]} {values[i]}\\n')\n",
    "\n",
    "tudo = list(zip(values, weights))\n",
    "print(tudo)"
   ]
  },
  {
   "cell_type": "code",
   "execution_count": 8,
   "metadata": {},
   "outputs": [],
   "source": []
  },
  {
   "cell_type": "code",
   "execution_count": 34,
   "metadata": {},
   "outputs": [
    {
     "data": {
      "text/plain": [
       "(array([ 5.,  4., 14., 18., 24., 11., 12.,  8.,  3.,  1.]),\n",
       " array([ 1. ,  1.9,  2.8,  3.7,  4.6,  5.5,  6.4,  7.3,  8.2,  9.1, 10. ]),\n",
       " <BarContainer object of 10 artists>)"
      ]
     },
     "execution_count": 34,
     "metadata": {},
     "output_type": "execute_result"
    },
    {
     "data": {
      "image/png": "[encoded data removed]",
      "text/plain": [
       "<Figure size 640x480 with 1 Axes>"
      ]
     },
     "metadata": {},
     "output_type": "display_data"
    }
   ],
   "source": [
    "import matplotlib.pyplot as plt\n",
    "n = 10\n",
    "y = [valueN(n/2, 0.2*n, n) for i in range(100)]\n",
    "# Plota um histograma com os valores gerados\n",
    "plt.hist(y, bins=10)"
   ]
  },
  {
   "cell_type": "code",
   "execution_count": null,
   "metadata": {},
   "outputs": [],
   "source": []
  }
 ],
 "metadata": {
  "kernelspec": {
   "display_name": "Python 3",
   "language": "python",
   "name": "python3"
  },
  "language_info": {
   "codemirror_mode": {
    "name": "ipython",
    "version": 3
   },
   "file_extension": ".py",
   "mimetype": "text/x-python",
   "name": "python",
   "nbconvert_exporter": "python",
   "pygments_lexer": "ipython3",
   "version": "3.11.4"
  }
 },
 "nbformat": 4,
 "nbformat_minor": 2
}
